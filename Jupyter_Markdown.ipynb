{
 "cells": [
  {
   "cell_type": "markdown",
   "id": "a5bbc241",
   "metadata": {},
   "source": [
    "# Operaciones matemáticas"
   ]
  },
  {
   "cell_type": "markdown",
   "id": "6ffb0139",
   "metadata": {},
   "source": [
    "**En este ejercicio realizaré dos tipos de operaciones matemáticas con Python:**\n",
    "\n",
    "+ Suma\n",
    "+ División\n",
    "\n",
    "![SignosOperaciones](https://www.educaciontrespuntocero.com/wp-content/uploads/2018/04/matematicas-978x652.jpg)"
   ]
  },
  {
   "cell_type": "markdown",
   "id": "a5b49be8",
   "metadata": {},
   "source": [
    "### Suma\n",
    "*A partir de las mismas variables, se genera un resultado con decimales y entero*"
   ]
  },
  {
   "cell_type": "code",
   "execution_count": 1,
   "id": "07fc4aff",
   "metadata": {},
   "outputs": [
    {
     "name": "stdout",
     "output_type": "stream",
     "text": [
      "Suma con decimales: 9.9\n",
      "Suma sin decimales: 9\n"
     ]
    }
   ],
   "source": [
    "num1 = 2.9\n",
    "num2 = 7\n",
    "\n",
    "suma_decimales = num1 + num2\n",
    "suma_entero = int(num1) + num2\n",
    "\n",
    "print(\"Suma con decimales: \" + str(suma_decimales))\n",
    "print(\"Suma sin decimales: \" + str(suma_entero))"
   ]
  },
  {
   "cell_type": "markdown",
   "id": "ebcaecdd",
   "metadata": {},
   "source": [
    "### División\n",
    "*A partir de las mismas variables, se genera un resultado con decimales y entero*"
   ]
  },
  {
   "cell_type": "code",
   "execution_count": 8,
   "id": "a149d855",
   "metadata": {},
   "outputs": [
    {
     "name": "stdout",
     "output_type": "stream",
     "text": [
      "División con decimales: 2.413793103448276\n",
      "División sin decimales: 3\n"
     ]
    }
   ],
   "source": [
    "division_decimales = num2 / num1\n",
    "division_entero = num2 // int(num1)\n",
    "\n",
    "print(\"División con decimales: \" + str(division_decimales))\n",
    "print(\"División sin decimales: \" + str(division_entero))"
   ]
  },
  {
   "cell_type": "code",
   "execution_count": null,
   "id": "ff8faa16",
   "metadata": {},
   "outputs": [],
   "source": []
  }
 ],
 "metadata": {
  "kernelspec": {
   "display_name": "Python 3 (ipykernel)",
   "language": "python",
   "name": "python3"
  },
  "language_info": {
   "codemirror_mode": {
    "name": "ipython",
    "version": 3
   },
   "file_extension": ".py",
   "mimetype": "text/x-python",
   "name": "python",
   "nbconvert_exporter": "python",
   "pygments_lexer": "ipython3",
   "version": "3.9.7"
  }
 },
 "nbformat": 4,
 "nbformat_minor": 5
}
